{
 "cells": [
  {
   "cell_type": "code",
   "execution_count": 133,
   "id": "71df2243",
   "metadata": {},
   "outputs": [],
   "source": [
    "import os\n",
    "import time\n",
    "import base64\n",
    "import pandas as pd\n",
    "from PIL import Image\n",
    "from io import BytesIO\n",
    "from selenium import webdriver\n",
    "from selenium.webdriver.common.by import By\n",
    "from selenium.webdriver.common.keys import Keys"
   ]
  },
  {
   "cell_type": "code",
   "execution_count": 142,
   "id": "a87f84b2",
   "metadata": {},
   "outputs": [],
   "source": [
    "\n",
    "\n",
    "class ImageDownloader:\n",
    "    \"\"\"\n",
    "    A class to download images from Google Images.\n",
    "\n",
    "    Parameters:\n",
    "        path (str): The path to store the downloaded images and CSV file.\n",
    "        srch (str): The XPath for the search box on the Google Images page.\n",
    "        second_image (str): The XPath for the second image on the preview page.\n",
    "        keyword (str): The keyword to search for.\n",
    "        num_images (int): The number of images to download.\n",
    "    \"\"\"\n",
    "\n",
    "    def __init__(self, path, srch, second_image, keyword, num_images):\n",
    "        self.path = path\n",
    "        self.srch = srch\n",
    "        self.second_image = second_image\n",
    "        self.keyword = keyword\n",
    "        self.num_images = num_images\n",
    "        self.driver = webdriver.Safari()\n",
    "\n",
    "    def create_directory(self):\n",
    "        \"\"\"\n",
    "        Create the directory to store the downloaded images and CSV file.\n",
    "        \"\"\"\n",
    "        os.makedirs(self.path, exist_ok=True)\n",
    "\n",
    "    def download_images(self):\n",
    "        \"\"\"\n",
    "        Download images based on the specified parameters.\n",
    "        \"\"\"\n",
    "        \n",
    "        self.driver.get(\"http://www.google.com\") #Go to google.com\n",
    "        \n",
    "        search_box = self.driver.find_element(By.XPATH, self.srch)\n",
    "        search_box.send_keys(self.keyword)\n",
    "        search_box.send_keys(Keys.RETURN) # In the search bar type the keyword\n",
    "\n",
    "        time.sleep(2)\n",
    "\n",
    "        images_link = self.driver.find_element(By.LINK_TEXT, \"Images\") # Go to the Images part of google\n",
    "        images_link.click()\n",
    "        time.sleep(2)\n",
    "        image_elements = self.driver.find_elements(By.CSS_SELECTOR, '.rg_i') #Get all items that are images\n",
    "\n",
    "        image_info = []\n",
    "        for i, element in enumerate(image_elements):\n",
    "            if i == self.num_images: # check the number of images if we reached the limit of predefined number\n",
    "                break\n",
    "\n",
    "            element.click()\n",
    "            time.sleep(2)\n",
    "            image_forlink = self.driver.find_element(By.XPATH, self.second_image) #Click on the image \n",
    "            url = image_forlink.get_attribute('src') #get the url of specific image\n",
    "\n",
    "            image_url = element.get_attribute('src')\n",
    "\n",
    "            title = element.get_attribute('alt') #get the title of an image\n",
    "            if image_url is not None and image_url.startswith('data:image'): \n",
    "                encoded_data = image_url.split(',')[1]\n",
    "                image = Image.open(BytesIO(base64.b64decode(encoded_data))) #transform the link that is available to the format from which we can save the images\n",
    "                file_path = f'{self.path}/image_{i}.png'\n",
    "                image.save(file_path)\n",
    "                print(f\"Image {i + 1} downloaded successfully.\")\n",
    "            image_info.append((title, url))\n",
    "\n",
    "        df = pd.DataFrame(image_info, columns=['Title', 'URL'])\n",
    "        df.to_csv(f'{self.path}/image_info.csv', mode='w', index=False) # Saving dataframe to csv \n",
    "\n",
    "    def quit_driver(self):\n",
    "        \"\"\"\n",
    "        Quit the Selenium driver.\n",
    "        \"\"\"\n",
    "        self.driver.quit()\n"
   ]
  },
  {
   "cell_type": "code",
   "execution_count": 143,
   "id": "a5322259",
   "metadata": {},
   "outputs": [
    {
     "name": "stdout",
     "output_type": "stream",
     "text": [
      "Image 1 downloaded successfully.\n",
      "Image 2 downloaded successfully.\n",
      "Image 3 downloaded successfully.\n",
      "Image 4 downloaded successfully.\n",
      "Image 5 downloaded successfully.\n"
     ]
    }
   ],
   "source": [
    "if __name__ == \"__main__\":\n",
    "    path = \"Python_finalproject\"\n",
    "    srch = '/html/body/div[1]/div[3]/form/div[1]/div[1]/div[1]/div/div[2]' #This should not be changed\n",
    "    second_image = '//*[@id=\"Sva75c\"]/div[2]/div/div[2]/div[2]/div[2]/c-wiz/div/div/div/div[3]/div[1]/a/img[1]' #This should not be changed\n",
    "    keyword = 'Python funny'\n",
    "    num_images = 5\n",
    "\n",
    "    downloader = ImageDownloader(path, srch, second_image, keyword, num_images)\n",
    "    downloader.create_directory()\n",
    "    downloader.download_images()\n",
    "    downloader.quit_driver()"
   ]
  },
  {
   "cell_type": "code",
   "execution_count": null,
   "id": "62f9e333",
   "metadata": {},
   "outputs": [],
   "source": []
  }
 ],
 "metadata": {
  "kernelspec": {
   "display_name": "Python 3 (ipykernel)",
   "language": "python",
   "name": "python3"
  },
  "language_info": {
   "codemirror_mode": {
    "name": "ipython",
    "version": 3
   },
   "file_extension": ".py",
   "mimetype": "text/x-python",
   "name": "python",
   "nbconvert_exporter": "python",
   "pygments_lexer": "ipython3",
   "version": "3.9.13"
  }
 },
 "nbformat": 4,
 "nbformat_minor": 5
}
