{
 "cells": [
  {
   "cell_type": "code",
   "execution_count": 3,
   "id": "71df2243",
   "metadata": {},
   "outputs": [],
   "source": [
    "import os\n",
    "import time\n",
    "import base64\n",
    "\n",
    "import pandas as pd\n",
    "from PIL import Image\n",
    "from io import BytesIO\n",
    "from selenium import webdriver\n",
    "from selenium.webdriver.common.by import By\n",
    "from selenium.webdriver.common.keys import Keys"
   ]
  },
  {
   "cell_type": "code",
<<<<<<< HEAD:experiment-notebooks/Python_scraping_google_images_bothbrowsers _miniapp.ipynb
   "execution_count": 4,
=======
   "execution_count": 20,
>>>>>>> origin:Python_scraping_google_images_bothbrowsers.ipynb
   "id": "a87f84b2",
   "metadata": {},
   "outputs": [],
   "source": [
    "\n",
    "\n",
    "class ImageDownloader:\n",
    "    \"\"\"\n",
    "    A class to download images from Google Images.\n",
    "\n",
    "    Parameters:\n",
    "        path (str): The path to store the downloaded images and CSV file.\n",
    "        srch (str): The XPath for the search box on the Google Images page.\n",
    "        second_image (str): The XPath for the second image on the preview page.\n",
    "        keyword (str): The keyword to search for.\n",
    "        num_images (int): The number of images to download.\n",
    "    \"\"\"\n",
    "\n",
    "    def __init__(self, path, keyword, num_images):\n",
    "        self.path = path\n",
    "        self.keyword = keyword\n",
    "        self.num_images = num_images\n",
    "        srch_chrome = '//*[@id=\"APjFqb\"]'\n",
    "        srch_safari = '/html/body/div[1]/div[3]/form/div[1]/div[1]/div[1]/div/div[2]'\n",
    "        second_image = '//*[@id=\"Sva75c\"]/div[2]/div/div[2]/div[2]/div[2]/c-wiz/div/div/div/div[3]/div[1]/a/img[1]' #This should not be changed\n",
    "        self.second_image = second_image\n",
    "\n",
    "        #Tries to run on chrome if encounters an error try safari\n",
    "        try:\n",
    "            \n",
    "            self.driver= webdriver.Chrome()\n",
    "            self.srch = srch_chrome\n",
    "        except:\n",
    "            self.driver= webdriver.Safari()\n",
    "            self.srch = srch_safari\n",
    "        \n",
    "\n",
    "    def create_directory(self):\n",
    "        \"\"\"\n",
    "        Create the directory to store the downloaded images and CSV file.\n",
    "        \"\"\"\n",
    "        os.makedirs(self.path, exist_ok=True)\n",
    "\n",
    "    def download_images(self):\n",
    "        \"\"\"\n",
    "        Download images based on the specified parameters.\n",
    "        \"\"\"\n",
    "        \n",
    "        self.driver.get(\"http://www.google.com\") #Go to google.com\n",
    "        \n",
    "        \n",
    "        \n",
    "        search_box = self.driver.find_element(By.XPATH, self.srch)\n",
    "        search_box.send_keys(self.keyword)\n",
    "        search_box.send_keys(Keys.RETURN) # In the search bar type the keyword\n",
    "\n",
    "        time.sleep(2)\n",
    "        \n",
    "        #If the page is in any other language change it to english\n",
    "        try:\n",
    "            images_link = self.driver.find_element(By.LINK_TEXT, \"Images\") # Go to the Images part of google\n",
    "        except:\n",
    "            language_tool = self.driver.find_element(By.XPATH, '//*[@id=\"Rzn5id\"]/div/a[2]') \n",
    "            language_tool.click()\n",
    "            images_link = self.driver.find_element(By.LINK_TEXT, \"Images\") # Go to the Images part of google\n",
    "\n",
    "        \n",
    "        images_link.click()\n",
    "        time.sleep(2)\n",
    "        image_elements = self.driver.find_elements(By.CSS_SELECTOR, '.rg_i') #Get all items that are images\n",
    "\n",
    "        image_info = []\n",
    "        for i, element in enumerate(image_elements):\n",
    "            if i == self.num_images: # check the number of images if we reached the limit of predefined number\n",
    "                break\n",
    "\n",
    "            element.click()\n",
    "            time.sleep(3)\n",
    "            image_forlink = self.driver.find_element(By.XPATH, self.second_image) #Click on the image \n",
    "            url = image_forlink.get_attribute('src') #get the url of specific image\n",
    "\n",
    "            image_url = element.get_attribute('src')\n",
    "\n",
    "            title = element.get_attribute('alt') #get the title of an image\n",
    "            if image_url is not None and image_url.startswith('data:image'): \n",
    "                encoded_data = image_url.split(',')[1]\n",
    "                image = Image.open(BytesIO(base64.b64decode(encoded_data))) #transform the link that is available to the format from which we can save the images\n",
    "                file_path = f'{self.path}/image_{i}.png'\n",
    "                image.save(file_path)\n",
    "                print(f\"Image {i + 1} downloaded successfully.\")\n",
    "            image_info.append((title, url))\n",
    "\n",
    "        df = pd.DataFrame(image_info, columns=['Title', 'URL'])\n",
    "        df['Website'] = df['URL'].str.extract(r'https:\\/\\/(.*?)\\/')\n",
    "        df.to_csv(f'{self.path}/image_info.csv', mode='w', index=False) # Saving dataframe to csv \n",
    "\n",
    "    def quit_driver(self):\n",
    "        \"\"\"\n",
    "        Quit the Selenium driver.\n",
    "        \"\"\"\n",
    "        self.driver.quit()\n"
   ]
  },
  {
   "cell_type": "code",
<<<<<<< HEAD:experiment-notebooks/Python_scraping_google_images_bothbrowsers _miniapp.ipynb
   "execution_count": null,
   "id": "b301371d",
   "metadata": {
    "pycharm": {
     "is_executing": true
    }
   },
=======
   "execution_count": 21,
   "id": "a5322259",
   "metadata": {},
>>>>>>> origin:Python_scraping_google_images_bothbrowsers.ipynb
   "outputs": [
    {
     "name": "stdout",
     "output_type": "stream",
     "text": [
      "Image 1 downloaded successfully.\n",
      "Image 2 downloaded successfully.\n",
      "Image 3 downloaded successfully.\n",
      "Image 4 downloaded successfully.\n",
<<<<<<< HEAD:experiment-notebooks/Python_scraping_google_images_bothbrowsers _miniapp.ipynb
      "Image 5 downloaded successfully.\n",
      "Image 1 downloaded successfully.\n",
      "Image 2 downloaded successfully.\n",
      "Image 1 downloaded successfully.\n",
      "Image 2 downloaded successfully.\n",
      "Image 3 downloaded successfully.\n",
      "Image 4 downloaded successfully.\n",
=======
>>>>>>> origin:Python_scraping_google_images_bothbrowsers.ipynb
      "Image 5 downloaded successfully.\n"
     ]
    }
   ],
   "source": [
    "import tkinter as tk\n",
    "from tkinter import messagebox\n",
    "\n",
    "class Application(tk.Frame):\n",
    "    def __init__(self, master=None):\n",
    "        super().__init__(master)\n",
    "        self.master = master\n",
    "        self.pack()\n",
    "        self.create_widgets()\n",
    "\n",
    "    def create_widgets(self):\n",
    "        self.path_label = tk.Label(self, text=\"Path\")\n",
    "        self.path_label.pack()\n",
    "        self.path_entry = tk.Entry(self)\n",
    "        self.path_entry.pack()\n",
    "\n",
    "        self.keyword_label = tk.Label(self, text=\"Keyword\")\n",
    "        self.keyword_label.pack()\n",
    "        self.keyword_entry = tk.Entry(self)\n",
    "        self.keyword_entry.pack()\n",
    "\n",
    "        self.num_images_label = tk.Label(self, text=\"Number of images\")\n",
    "        self.num_images_label.pack()\n",
    "        self.num_images_entry = tk.Entry(self)\n",
    "        self.num_images_entry.pack()\n",
    "\n",
    "        self.run_button = tk.Button(self)\n",
    "        self.run_button[\"text\"] = \"Download Images\"\n",
    "        self.run_button[\"command\"] = self.download_images\n",
    "        self.run_button.pack()\n",
    "\n",
    "    def download_images(self):\n",
    "        path = self.path_entry.get()\n",
    "        keyword = self.keyword_entry.get()\n",
    "        num_images = int(self.num_images_entry.get())\n",
    "\n",
    "        downloader = ImageDownloader(path, keyword, num_images)\n",
    "        downloader.create_directory()\n",
    "        downloader.download_images()\n",
    "        downloader.quit_driver()\n",
    "        messagebox.showinfo(\"Information\",\"Download completed successfully!\")\n",
    "\n",
    "if __name__ == \"__main__\":\n",
<<<<<<< HEAD:experiment-notebooks/Python_scraping_google_images_bothbrowsers _miniapp.ipynb
    "    root = tk.Tk()\n",
    "    app = Application(master=root)\n",
    "    app.mainloop()\n"
=======
    "    path = \"Python_finalproject\"\n",
    "    keyword = 'Kargin Haghordum'\n",
    "    num_images = 5\n",
    "    downloader = ImageDownloader(path, keyword, num_images)\n",
    "    downloader.create_directory()\n",
    "    downloader.download_images()\n",
    "    downloader.quit_driver()"
>>>>>>> origin:Python_scraping_google_images_bothbrowsers.ipynb
   ]
  },
  {
   "cell_type": "code",
   "execution_count": 15,
   "id": "d94896b4",
   "metadata": {},
   "outputs": [],
   "source": [
    "a=['https://i.ytimg.com/vi/jf-yXCiLD2E/maxresdefault.jpg']"
   ]
  },
  {
   "cell_type": "code",
   "execution_count": 16,
   "id": "9077d177",
   "metadata": {},
   "outputs": [],
   "source": [
    "df = pd.DataFrame(a)\n"
   ]
  },
  {
   "cell_type": "code",
   "execution_count": 17,
   "id": "5f978a78",
   "metadata": {},
   "outputs": [
    {
     "data": {
      "text/html": [
       "<div>\n",
       "<style scoped>\n",
       "    .dataframe tbody tr th:only-of-type {\n",
       "        vertical-align: middle;\n",
       "    }\n",
       "\n",
       "    .dataframe tbody tr th {\n",
       "        vertical-align: top;\n",
       "    }\n",
       "\n",
       "    .dataframe thead th {\n",
       "        text-align: right;\n",
       "    }\n",
       "</style>\n",
       "<table border=\"1\" class=\"dataframe\">\n",
       "  <thead>\n",
       "    <tr style=\"text-align: right;\">\n",
       "      <th></th>\n",
       "      <th>0</th>\n",
       "    </tr>\n",
       "  </thead>\n",
       "  <tbody>\n",
       "    <tr>\n",
       "      <th>0</th>\n",
       "      <td>https://i.ytimg.com/vi/jf-yXCiLD2E/maxresdefau...</td>\n",
       "    </tr>\n",
       "  </tbody>\n",
       "</table>\n",
       "</div>"
      ],
      "text/plain": [
       "                                                   0\n",
       "0  https://i.ytimg.com/vi/jf-yXCiLD2E/maxresdefau..."
      ]
     },
     "execution_count": 17,
     "metadata": {},
     "output_type": "execute_result"
    }
   ],
   "source": [
    "df"
   ]
  },
  {
   "cell_type": "code",
   "execution_count": 19,
   "id": "5b3f8712",
   "metadata": {},
   "outputs": [
    {
     "data": {
      "text/html": [
       "<div>\n",
       "<style scoped>\n",
       "    .dataframe tbody tr th:only-of-type {\n",
       "        vertical-align: middle;\n",
       "    }\n",
       "\n",
       "    .dataframe tbody tr th {\n",
       "        vertical-align: top;\n",
       "    }\n",
       "\n",
       "    .dataframe thead th {\n",
       "        text-align: right;\n",
       "    }\n",
       "</style>\n",
       "<table border=\"1\" class=\"dataframe\">\n",
       "  <thead>\n",
       "    <tr style=\"text-align: right;\">\n",
       "      <th></th>\n",
       "      <th>0</th>\n",
       "    </tr>\n",
       "  </thead>\n",
       "  <tbody>\n",
       "    <tr>\n",
       "      <th>0</th>\n",
       "      <td>i.ytimg.com</td>\n",
       "    </tr>\n",
       "  </tbody>\n",
       "</table>\n",
       "</div>"
      ],
      "text/plain": [
       "             0\n",
       "0  i.ytimg.com"
      ]
     },
     "execution_count": 19,
     "metadata": {},
     "output_type": "execute_result"
    }
   ],
   "source": [
    "df[0].str.extract(r'https:\\/\\/(.*?)\\/')"
   ]
  },
  {
   "cell_type": "code",
   "execution_count": null,
   "id": "ea10718e",
   "metadata": {},
   "outputs": [],
   "source": []
  }
 ],
 "metadata": {
  "kernelspec": {
   "display_name": "Python 3 (ipykernel)",
   "language": "python",
   "name": "python3"
  },
  "language_info": {
   "codemirror_mode": {
    "name": "ipython",
    "version": 3
   },
   "file_extension": ".py",
   "mimetype": "text/x-python",
   "name": "python",
   "nbconvert_exporter": "python",
   "pygments_lexer": "ipython3",
   "version": "3.9.13"
  }
 },
 "nbformat": 4,
 "nbformat_minor": 5
}
